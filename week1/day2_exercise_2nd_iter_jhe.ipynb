{
 "cells": [
  {
   "cell_type": "code",
   "execution_count": 1,
   "id": "53d550dd",
   "metadata": {},
   "outputs": [],
   "source": [
    "\n",
    "import os\n",
    "import requests\n",
    "from dotenv import load_dotenv\n",
    "from bs4 import BeautifulSoup\n",
    "from IPython.display import Markdown, display\n",
    "from openai import OpenAI\n",
    "import anthropic"
   ]
  },
  {
   "cell_type": "code",
   "execution_count": 2,
   "id": "ad8ae1d4",
   "metadata": {},
   "outputs": [],
   "source": [
    "import logging\n",
    "logging.basicConfig(level=logging.DEBUG)"
   ]
  },
  {
   "cell_type": "code",
   "execution_count": 3,
   "id": "81ee0f75",
   "metadata": {},
   "outputs": [
    {
     "data": {
      "text/plain": [
       "True"
      ]
     },
     "execution_count": 3,
     "metadata": {},
     "output_type": "execute_result"
    }
   ],
   "source": [
    "from dotenv import load_dotenv\n",
    "load_dotenv()"
   ]
  },
  {
   "cell_type": "code",
   "execution_count": 4,
   "id": "0cfc7ebf",
   "metadata": {},
   "outputs": [],
   "source": [
    "ANTHROPIC_API_KEY = os.getenv(\"ANTHROPIC_API_KEY\")\n",
    "if not ANTHROPIC_API_KEY:\n",
    "    logging.error(\"Please set the ANTHROPIC_API_KEY environment variable.\")\n",
    "    sys.exit(1)"
   ]
  },
  {
   "cell_type": "code",
   "execution_count": 5,
   "id": "580948ce",
   "metadata": {},
   "outputs": [
    {
     "name": "stdout",
     "output_type": "stream",
     "text": [
      "My key looks ok..\n"
     ]
    }
   ],
   "source": [
    "if ANTHROPIC_API_KEY.strip() != ANTHROPIC_API_KEY:\n",
    "  print(\"My key contains leading or trailing space\")\n",
    "elif ANTHROPIC_API_KEY[:7] != \"sk-ant-\":\n",
    "  print(\"My key doesn't start sk-ant-\")\n",
    "else:\n",
    "  print(\"My key looks ok..\")"
   ]
  },
  {
   "cell_type": "code",
   "execution_count": 6,
   "id": "b83b5806",
   "metadata": {},
   "outputs": [],
   "source": [
    "# A class to represent a Webpage\n",
    "# If you're not familiar with Classes, check out the \"Intermediate Python\" notebook\n",
    "\n",
    "# Some websites need you to use proper headers when fetching them:\n",
    "headers = {\n",
    " \"User-Agent\": \"Mozilla/5.0 (Windows NT 10.0; Win64; x64) AppleWebKit/537.36 (KHTML, like Gecko) Chrome/117.0.0.0 Safari/537.36\"\n",
    "}\n",
    "\n",
    "class Website:\n",
    "\n",
    "    def __init__(self, url):\n",
    "        \"\"\"\n",
    "        Create this Website object from the given url using the BeautifulSoup library\n",
    "        \"\"\"\n",
    "        self.url = url\n",
    "        response = requests.get(url, headers=headers)\n",
    "        soup = BeautifulSoup(response.content, 'html.parser')\n",
    "        self.title = soup.title.string if soup.title else \"No title found\"\n",
    "        for irrelevant in soup.body([\"script\", \"style\", \"img\", \"input\"]):\n",
    "            irrelevant.decompose()\n",
    "        self.text = soup.body.get_text(separator=\"\\n\", strip=True)"
   ]
  },
  {
   "cell_type": "code",
   "execution_count": 7,
   "id": "054a6d69",
   "metadata": {},
   "outputs": [],
   "source": [
    "# ed = Website(\"https://edwarddonner.com\")\n",
    "# print(ed.title)\n",
    "# print(ed.text)"
   ]
  },
  {
   "cell_type": "code",
   "execution_count": null,
   "id": "90c0380a",
   "metadata": {},
   "outputs": [],
   "source": []
  },
  {
   "cell_type": "markdown",
   "id": "d5c69d95",
   "metadata": {},
   "source": [
    "## Helper Functions"
   ]
  },
  {
   "cell_type": "code",
   "execution_count": 8,
   "id": "281de8b6",
   "metadata": {},
   "outputs": [],
   "source": [
    "# Define our system prompt - you can experiment with this later, changing the last sentence to 'Respond in markdown in Spanish.\"\n",
    "\n",
    "system_prompt = \"You are an assistant that analyzes the contents of a website \\\n",
    "and provides a short summary, ignoring text that might be navigation related. \\\n",
    "Respond in markdown.\""
   ]
  },
  {
   "cell_type": "code",
   "execution_count": 9,
   "id": "fd6a13ac",
   "metadata": {},
   "outputs": [],
   "source": [
    "# A function that writes a User Prompt that asks for summaries of websites:\n",
    "\n",
    "def user_prompt_for(website):\n",
    "    user_prompt = f\"You are looking at a website titled {website.title}\"\n",
    "    user_prompt += \"\\nThe contents of this website is as follows; \\\n",
    "please provide a short summary of this website in markdown. \\\n",
    "If it includes news or announcements, then summarize these too.\\n\\n\"\n",
    "    user_prompt += website.text\n",
    "    return user_prompt"
   ]
  },
  {
   "cell_type": "code",
   "execution_count": 10,
   "id": "9175dcc9",
   "metadata": {},
   "outputs": [],
   "source": [
    "# See how this function creates exactly the format above\n",
    "\n",
    "def messages_for(website):\n",
    "    return {\"system\": system_prompt,\n",
    "            \"messages\":[\n",
    "                        {\"role\": \"user\", \"content\": user_prompt_for(website)}\n",
    "                ]\n",
    "            }"
   ]
  },
  {
   "cell_type": "markdown",
   "id": "a51f40a7",
   "metadata": {},
   "source": [
    "## Payload info"
   ]
  },
  {
   "cell_type": "code",
   "execution_count": 11,
   "id": "de304094",
   "metadata": {},
   "outputs": [],
   "source": [
    "ANTHROPIC_API = \"https://api.anthropic.com/v1/messages\"\n",
    "HEADERS = {\n",
    "        \"x-api-key\": ANTHROPIC_API_KEY,\n",
    "        \"anthropic-version\": \"2023-06-01\",\n",
    "        \"Content-Type\": \"application/json\"\n",
    "    }\n",
    "MODEL = \"claude-3-5-sonnet-latest\""
   ]
  },
  {
   "cell_type": "code",
   "execution_count": 12,
   "id": "35e9049d",
   "metadata": {},
   "outputs": [],
   "source": [
    "# print(\"Payload:\", payload)\n",
    "# print(\"Headers:\", HEADERS)\n"
   ]
  },
  {
   "cell_type": "markdown",
   "id": "dff2fbe6",
   "metadata": {},
   "source": [
    "## First approach"
   ]
  },
  {
   "cell_type": "code",
   "execution_count": 13,
   "id": "a7c918be",
   "metadata": {},
   "outputs": [],
   "source": [
    "def summarize_requests(url):\n",
    "    website = Website(url)\n",
    "    payload = {\n",
    "        \"model\": MODEL,\n",
    "        \"max_tokens\": 1000,\n",
    "        \"system\": system_prompt,  # Add the system prompt as a top-level parameter\n",
    "        \"messages\": [\n",
    "            {\"role\": \"user\", \"content\": user_prompt_for(website)}  # Only include the user message\n",
    "        ]\n",
    "    }\n",
    "    \n",
    "    try:\n",
    "        response = requests.post(ANTHROPIC_API, headers=HEADERS, json=payload)\n",
    "        response.raise_for_status()  # Raise an HTTPError for bad responses\n",
    "        return response.json()[\"content\"][0][\"text\"]\n",
    "    except requests.exceptions.RequestException as e:\n",
    "        logging.error(f\"Request failed: {e}\")\n",
    "        logging.error(f\"Response: {response.text if response else 'No response'}\")\n",
    "        raise"
   ]
  },
  {
   "cell_type": "code",
   "execution_count": 14,
   "id": "a1b16be0",
   "metadata": {},
   "outputs": [],
   "source": [
    "def display_summary_requests(url):\n",
    "    summary = summarize_requests(url)\n",
    "    display(Markdown(summary))"
   ]
  },
  {
   "cell_type": "code",
   "execution_count": 15,
   "id": "28de36f2",
   "metadata": {},
   "outputs": [
    {
     "name": "stderr",
     "output_type": "stream",
     "text": [
      "DEBUG:urllib3.connectionpool:Starting new HTTPS connection (1): edwarddonner.com:443\n",
      "DEBUG:urllib3.connectionpool:https://edwarddonner.com:443 \"GET / HTTP/1.1\" 200 None\n",
      "DEBUG:urllib3.connectionpool:Starting new HTTPS connection (1): api.anthropic.com:443\n",
      "DEBUG:urllib3.connectionpool:https://api.anthropic.com:443 \"POST /v1/messages HTTP/1.1\" 200 None\n"
     ]
    },
    {
     "data": {
      "text/markdown": [
       "# Summary of Edward Donner's Website\n",
       "\n",
       "## About Ed\n",
       "Ed Donner is a tech entrepreneur and AI enthusiast who is currently the co-founder and CTO of Nebula.io. He was previously the founder and CEO of untapt, an AI startup that was acquired in 2021. His interests include:\n",
       "- Coding\n",
       "- Experimenting with LLMs\n",
       "- DJing\n",
       "- Electronic music production\n",
       "- Technology discussions\n",
       "\n",
       "## Professional Work\n",
       "- Currently leads Nebula.io, which uses AI for talent discovery and recruitment\n",
       "- Company has developed proprietary LLMs for talent management\n",
       "- Holds patents for their matching model\n",
       "- Platform has received awards and media coverage\n",
       "\n",
       "## Projects\n",
       "The website features two notable projects:\n",
       "1. **Connect Four** - (details not provided)\n",
       "2. **Outsmart** - An arena for LLMs to compete in diplomacy and strategy\n",
       "\n",
       "## Recent Posts\n",
       "- The Complete Agentic AI Engineering Course (April 2025)\n",
       "- LLM Workshop – Hands-on with Agents – resources (January 2025)\n",
       "- Welcome, SuperDataScientists! (December 2024)\n",
       "- Mastering AI and LLM Engineering – Resources (November 2024)\n",
       "\n",
       "The website serves as both a professional portfolio and a platform for sharing knowledge about AI and LLM engineering."
      ],
      "text/plain": [
       "<IPython.core.display.Markdown object>"
      ]
     },
     "metadata": {},
     "output_type": "display_data"
    }
   ],
   "source": [
    "url = \"https://edwarddonner.com\"\n",
    "display_summary_requests(url)"
   ]
  },
  {
   "cell_type": "markdown",
   "id": "1af8d6f4",
   "metadata": {},
   "source": [
    "## Anthropic Package approach"
   ]
  },
  {
   "cell_type": "code",
   "execution_count": 16,
   "id": "1d339fc7",
   "metadata": {},
   "outputs": [],
   "source": [
    "client = anthropic.Client(api_key=ANTHROPIC_API_KEY)\n",
    "\n",
    "url = \"https://edwarddonner.com\"\n"
   ]
  },
  {
   "cell_type": "code",
   "execution_count": 17,
   "id": "252544ba",
   "metadata": {},
   "outputs": [],
   "source": [
    "def summarize_package(url):\n",
    "    website = Website(url)\n",
    "    messages = messages_for(website) \n",
    "    response = client.messages.create(model=MODEL, temperature=0.0, max_tokens=500, **messages)\n",
    "    return response.content[0].text"
   ]
  },
  {
   "cell_type": "code",
   "execution_count": 18,
   "id": "3057c326",
   "metadata": {},
   "outputs": [],
   "source": [
    "def display_summary_package(url):\n",
    "    summary = summarize_package(url)\n",
    "    display(Markdown(summary))"
   ]
  },
  {
   "cell_type": "code",
   "execution_count": 19,
   "id": "f1f6c440",
   "metadata": {},
   "outputs": [
    {
     "name": "stderr",
     "output_type": "stream",
     "text": [
      "DEBUG:urllib3.connectionpool:Starting new HTTPS connection (1): edwarddonner.com:443\n",
      "DEBUG:urllib3.connectionpool:https://edwarddonner.com:443 \"GET / HTTP/1.1\" 200 None\n",
      "DEBUG:anthropic._base_client:Request options: {'method': 'post', 'url': '/v1/messages', 'timeout': Timeout(connect=5.0, read=600, write=600, pool=600), 'files': None, 'json_data': {'max_tokens': 500, 'messages': [{'role': 'user', 'content': 'You are looking at a website titled Home - Edward Donner\\nThe contents of this website is as follows; please provide a short summary of this website in markdown. If it includes news or announcements, then summarize these too.\\n\\nHome\\nConnect Four\\nOutsmart\\nAn arena that pits LLMs against each other in a battle of diplomacy and deviousness\\nAbout\\nPosts\\nWell, hi there.\\nI’m Ed. I like writing code and experimenting with LLMs, and hopefully you’re here because you do too. I also enjoy DJing (but I’m badly out of practice), amateur electronic music production (\\nvery\\namateur) and losing myself in\\nHacker News\\n, nodding my head sagely to things I only half understand.\\nI’m the co-founder and CTO of\\nNebula.io\\n. We’re applying AI to a field where it can make a massive, positive impact: helping people discover their potential and pursue their reason for being. Recruiters use our product today to source, understand, engage and manage talent. I’m previously the founder and CEO of AI startup untapt,\\nacquired in 2021\\n.\\nWe work with groundbreaking, proprietary LLMs verticalized for talent, we’ve\\npatented\\nour matching model, and our award-winning platform has happy customers and tons of press coverage.\\nConnect\\nwith me for more!\\nApril 21, 2025\\nThe Complete Agentic AI Engineering Course\\nJanuary 23, 2025\\nLLM Workshop – Hands-on with Agents – resources\\nDecember 21, 2024\\nWelcome, SuperDataScientists!\\nNovember 13, 2024\\nMastering AI and LLM Engineering – Resources\\nNavigation\\nHome\\nConnect Four\\nOutsmart\\nAn arena that pits LLMs against each other in a battle of diplomacy and deviousness\\nAbout\\nPosts\\nGet in touch\\ned [at] edwarddonner [dot] com\\nwww.edwarddonner.com\\nFollow me\\nLinkedIn\\nTwitter\\nFacebook\\nSubscribe to newsletter\\nType your email…\\nSubscribe'}], 'model': 'claude-3-5-sonnet-latest', 'system': 'You are an assistant that analyzes the contents of a website and provides a short summary, ignoring text that might be navigation related. Respond in markdown.', 'temperature': 0.0}}\n",
      "DEBUG:anthropic._base_client:Sending HTTP Request: POST https://api.anthropic.com/v1/messages\n",
      "DEBUG:httpcore.connection:connect_tcp.started host='api.anthropic.com' port=443 local_address=None timeout=5.0 socket_options=[(65535, 8, True), (6, 17, 60), (6, 16, 5), (6, 3, 60)]\n",
      "DEBUG:httpcore.connection:connect_tcp.complete return_value=<httpcore._backends.sync.SyncStream object at 0x00000278E219EA10>\n",
      "DEBUG:httpcore.connection:start_tls.started ssl_context=<ssl.SSLContext object at 0x00000278E2122720> server_hostname='api.anthropic.com' timeout=5.0\n",
      "DEBUG:httpcore.connection:start_tls.complete return_value=<httpcore._backends.sync.SyncStream object at 0x00000278E219EF50>\n",
      "DEBUG:httpcore.http11:send_request_headers.started request=<Request [b'POST']>\n",
      "DEBUG:httpcore.http11:send_request_headers.complete\n",
      "DEBUG:httpcore.http11:send_request_body.started request=<Request [b'POST']>\n",
      "DEBUG:httpcore.http11:send_request_body.complete\n",
      "DEBUG:httpcore.http11:receive_response_headers.started request=<Request [b'POST']>\n",
      "DEBUG:httpcore.http11:receive_response_headers.complete return_value=(b'HTTP/1.1', 200, b'OK', [(b'Date', b'Thu, 24 Apr 2025 14:08:35 GMT'), (b'Content-Type', b'application/json'), (b'Transfer-Encoding', b'chunked'), (b'Connection', b'keep-alive'), (b'anthropic-ratelimit-input-tokens-limit', b'40000'), (b'anthropic-ratelimit-input-tokens-remaining', b'40000'), (b'anthropic-ratelimit-input-tokens-reset', b'2025-04-24T14:08:30Z'), (b'anthropic-ratelimit-output-tokens-limit', b'8000'), (b'anthropic-ratelimit-output-tokens-remaining', b'8000'), (b'anthropic-ratelimit-output-tokens-reset', b'2025-04-24T14:08:35Z'), (b'anthropic-ratelimit-requests-limit', b'50'), (b'anthropic-ratelimit-requests-remaining', b'49'), (b'anthropic-ratelimit-requests-reset', b'2025-04-24T14:08:31Z'), (b'anthropic-ratelimit-tokens-limit', b'48000'), (b'anthropic-ratelimit-tokens-remaining', b'48000'), (b'anthropic-ratelimit-tokens-reset', b'2025-04-24T14:08:30Z'), (b'request-id', b'req_011CNTgvCJPgCChLtYM9Ys9g'), (b'anthropic-organization-id', b'040f5988-72e9-4195-87c7-5f694d0bdf97'), (b'via', b'1.1 google'), (b'cf-cache-status', b'DYNAMIC'), (b'X-Robots-Tag', b'none'), (b'Server', b'cloudflare'), (b'CF-RAY', b'93562c4b9ef89126-ORD'), (b'Content-Encoding', b'gzip')])\n",
      "INFO:httpx:HTTP Request: POST https://api.anthropic.com/v1/messages \"HTTP/1.1 200 OK\"\n",
      "DEBUG:httpcore.http11:receive_response_body.started request=<Request [b'POST']>\n",
      "DEBUG:httpcore.http11:receive_response_body.complete\n",
      "DEBUG:httpcore.http11:response_closed.started\n",
      "DEBUG:httpcore.http11:response_closed.complete\n",
      "DEBUG:anthropic._base_client:HTTP Response: POST https://api.anthropic.com/v1/messages \"200 OK\" Headers({'date': 'Thu, 24 Apr 2025 14:08:35 GMT', 'content-type': 'application/json', 'transfer-encoding': 'chunked', 'connection': 'keep-alive', 'anthropic-ratelimit-input-tokens-limit': '40000', 'anthropic-ratelimit-input-tokens-remaining': '40000', 'anthropic-ratelimit-input-tokens-reset': '2025-04-24T14:08:30Z', 'anthropic-ratelimit-output-tokens-limit': '8000', 'anthropic-ratelimit-output-tokens-remaining': '8000', 'anthropic-ratelimit-output-tokens-reset': '2025-04-24T14:08:35Z', 'anthropic-ratelimit-requests-limit': '50', 'anthropic-ratelimit-requests-remaining': '49', 'anthropic-ratelimit-requests-reset': '2025-04-24T14:08:31Z', 'anthropic-ratelimit-tokens-limit': '48000', 'anthropic-ratelimit-tokens-remaining': '48000', 'anthropic-ratelimit-tokens-reset': '2025-04-24T14:08:30Z', 'request-id': 'req_011CNTgvCJPgCChLtYM9Ys9g', 'anthropic-organization-id': '040f5988-72e9-4195-87c7-5f694d0bdf97', 'via': '1.1 google', 'cf-cache-status': 'DYNAMIC', 'x-robots-tag': 'none', 'server': 'cloudflare', 'cf-ray': '93562c4b9ef89126-ORD', 'content-encoding': 'gzip'})\n",
      "DEBUG:anthropic._base_client:request_id: req_011CNTgvCJPgCChLtYM9Ys9g\n"
     ]
    },
    {
     "data": {
      "text/markdown": [
       "Here's a summary of Edward Donner's website in markdown:\n",
       "\n",
       "# Edward Donner's Personal Website\n",
       "\n",
       "## About Ed\n",
       "- Co-founder and CTO of Nebula.io\n",
       "- Previously founded untapt (acquired in 2021)\n",
       "- Focuses on AI and LLM development\n",
       "- Interests include coding, LLMs, DJing, and electronic music production\n",
       "\n",
       "## Professional Work\n",
       "- Leading Nebula.io, which applies AI to talent discovery and recruitment\n",
       "- Works with proprietary LLMs specialized in talent management\n",
       "- Holds patents for matching model technology\n",
       "- Platform has received awards and media coverage\n",
       "\n",
       "## Recent Posts/Announcements\n",
       "1. The Complete Agentic AI Engineering Course (April 2025)\n",
       "2. LLM Workshop – Hands-on with Agents – resources (January 2025)\n",
       "3. Welcome, SuperDataScientists! (December 2024)\n",
       "4. Mastering AI and LLM Engineering – Resources (November 2024)\n",
       "\n",
       "## Projects\n",
       "- Connect Four\n",
       "- Outsmart - An LLM-based arena for testing AI diplomacy and strategy\n",
       "\n",
       "The website serves as a professional portfolio and blog, focusing primarily on AI, LLM engineering, and talent technology, while also showcasing Ed's personal interests and achievements in the tech industry."
      ],
      "text/plain": [
       "<IPython.core.display.Markdown object>"
      ]
     },
     "metadata": {},
     "output_type": "display_data"
    }
   ],
   "source": [
    "url = \"https://edwarddonner.com\"\n",
    "display_summary_package(url)"
   ]
  },
  {
   "cell_type": "markdown",
   "id": "244ab7c1",
   "metadata": {},
   "source": [
    "## Through OpenAI Library"
   ]
  },
  {
   "cell_type": "code",
   "execution_count": 20,
   "id": "66a982c3",
   "metadata": {},
   "outputs": [],
   "source": [
    "ANTHROPIC_API = \"https://api.anthropic.com/v1/\"\n",
    "anthropic_via_openai = OpenAI(base_url=ANTHROPIC_API, api_key=ANTHROPIC_API_KEY)"
   ]
  },
  {
   "cell_type": "code",
   "execution_count": 21,
   "id": "1b9e2194",
   "metadata": {},
   "outputs": [],
   "source": [
    "def messages_for(website):\n",
    "    return [\n",
    "        {\"role\": \"system\", \"content\": system_prompt},\n",
    "        {\"role\": \"user\", \"content\": user_prompt_for(website)}\n",
    "    ]"
   ]
  },
  {
   "cell_type": "code",
   "execution_count": 22,
   "id": "d1fac436",
   "metadata": {},
   "outputs": [],
   "source": [
    "def summarize_openai(url):\n",
    "    website = Website(url)\n",
    "    messages = messages_for(website)\n",
    "    # print(messages)\n",
    "    response = anthropic_via_openai.chat.completions.create(model=MODEL, messages=messages)\n",
    "    \n",
    "    return response.choices[0].message.content"
   ]
  },
  {
   "cell_type": "code",
   "execution_count": 23,
   "id": "4e8d53f2",
   "metadata": {},
   "outputs": [],
   "source": [
    "def display_summary_openai(url):\n",
    "    summary = summarize_openai(url)\n",
    "    display(Markdown(summary))"
   ]
  },
  {
   "cell_type": "code",
   "execution_count": 24,
   "id": "7deefaf9",
   "metadata": {},
   "outputs": [
    {
     "name": "stderr",
     "output_type": "stream",
     "text": [
      "DEBUG:urllib3.connectionpool:Starting new HTTPS connection (1): edwarddonner.com:443\n",
      "DEBUG:urllib3.connectionpool:https://edwarddonner.com:443 \"GET / HTTP/1.1\" 200 None\n",
      "DEBUG:openai._base_client:Request options: {'method': 'post', 'url': '/chat/completions', 'files': None, 'json_data': {'messages': [{'role': 'system', 'content': 'You are an assistant that analyzes the contents of a website and provides a short summary, ignoring text that might be navigation related. Respond in markdown.'}, {'role': 'user', 'content': 'You are looking at a website titled Home - Edward Donner\\nThe contents of this website is as follows; please provide a short summary of this website in markdown. If it includes news or announcements, then summarize these too.\\n\\nHome\\nConnect Four\\nOutsmart\\nAn arena that pits LLMs against each other in a battle of diplomacy and deviousness\\nAbout\\nPosts\\nWell, hi there.\\nI’m Ed. I like writing code and experimenting with LLMs, and hopefully you’re here because you do too. I also enjoy DJing (but I’m badly out of practice), amateur electronic music production (\\nvery\\namateur) and losing myself in\\nHacker News\\n, nodding my head sagely to things I only half understand.\\nI’m the co-founder and CTO of\\nNebula.io\\n. We’re applying AI to a field where it can make a massive, positive impact: helping people discover their potential and pursue their reason for being. Recruiters use our product today to source, understand, engage and manage talent. I’m previously the founder and CEO of AI startup untapt,\\nacquired in 2021\\n.\\nWe work with groundbreaking, proprietary LLMs verticalized for talent, we’ve\\npatented\\nour matching model, and our award-winning platform has happy customers and tons of press coverage.\\nConnect\\nwith me for more!\\nApril 21, 2025\\nThe Complete Agentic AI Engineering Course\\nJanuary 23, 2025\\nLLM Workshop – Hands-on with Agents – resources\\nDecember 21, 2024\\nWelcome, SuperDataScientists!\\nNovember 13, 2024\\nMastering AI and LLM Engineering – Resources\\nNavigation\\nHome\\nConnect Four\\nOutsmart\\nAn arena that pits LLMs against each other in a battle of diplomacy and deviousness\\nAbout\\nPosts\\nGet in touch\\ned [at] edwarddonner [dot] com\\nwww.edwarddonner.com\\nFollow me\\nLinkedIn\\nTwitter\\nFacebook\\nSubscribe to newsletter\\nType your email…\\nSubscribe'}], 'model': 'claude-3-5-sonnet-latest'}}\n",
      "DEBUG:openai._base_client:Sending HTTP Request: POST https://api.anthropic.com/v1/chat/completions\n",
      "DEBUG:httpcore.connection:connect_tcp.started host='api.anthropic.com' port=443 local_address=None timeout=5.0 socket_options=None\n",
      "DEBUG:httpcore.connection:connect_tcp.complete return_value=<httpcore._backends.sync.SyncStream object at 0x00000278E219D410>\n",
      "DEBUG:httpcore.connection:start_tls.started ssl_context=<ssl.SSLContext object at 0x00000278E1B33A40> server_hostname='api.anthropic.com' timeout=5.0\n",
      "DEBUG:httpcore.connection:start_tls.complete return_value=<httpcore._backends.sync.SyncStream object at 0x00000278E22066D0>\n",
      "DEBUG:httpcore.http11:send_request_headers.started request=<Request [b'POST']>\n",
      "DEBUG:httpcore.http11:send_request_headers.complete\n",
      "DEBUG:httpcore.http11:send_request_body.started request=<Request [b'POST']>\n",
      "DEBUG:httpcore.http11:send_request_body.complete\n",
      "DEBUG:httpcore.http11:receive_response_headers.started request=<Request [b'POST']>\n",
      "DEBUG:httpcore.http11:receive_response_headers.complete return_value=(b'HTTP/1.1', 200, b'OK', [(b'Date', b'Thu, 24 Apr 2025 14:08:41 GMT'), (b'Content-Type', b'application/json'), (b'Transfer-Encoding', b'chunked'), (b'Connection', b'keep-alive'), (b'x-ratelimit-requests', b'50'), (b'x-ratelimit-remaining-requests', b'49'), (b'x-ratelimit-reset-requests', b'0s'), (b'x-ratelimit-tokens', b'48000'), (b'x-ratelimit-remaining-tokens', b'48000'), (b'x-ratelimit-reset-tokens', b'0s'), (b'x-request-id', b'req_011CNTgvd6QDjruWa3AxWZP4'), (b'via', b'1.1 google'), (b'cf-cache-status', b'DYNAMIC'), (b'X-Robots-Tag', b'none'), (b'Server', b'cloudflare'), (b'CF-RAY', b'93562c6fd99ae235-ORD'), (b'Content-Encoding', b'gzip')])\n",
      "INFO:httpx:HTTP Request: POST https://api.anthropic.com/v1/chat/completions \"HTTP/1.1 200 OK\"\n",
      "DEBUG:httpcore.http11:receive_response_body.started request=<Request [b'POST']>\n",
      "DEBUG:httpcore.http11:receive_response_body.complete\n",
      "DEBUG:httpcore.http11:response_closed.started\n",
      "DEBUG:httpcore.http11:response_closed.complete\n",
      "DEBUG:openai._base_client:HTTP Response: POST https://api.anthropic.com/v1/chat/completions \"200 OK\" Headers({'date': 'Thu, 24 Apr 2025 14:08:41 GMT', 'content-type': 'application/json', 'transfer-encoding': 'chunked', 'connection': 'keep-alive', 'x-ratelimit-requests': '50', 'x-ratelimit-remaining-requests': '49', 'x-ratelimit-reset-requests': '0s', 'x-ratelimit-tokens': '48000', 'x-ratelimit-remaining-tokens': '48000', 'x-ratelimit-reset-tokens': '0s', 'x-request-id': 'req_011CNTgvd6QDjruWa3AxWZP4', 'via': '1.1 google', 'cf-cache-status': 'DYNAMIC', 'x-robots-tag': 'none', 'server': 'cloudflare', 'cf-ray': '93562c6fd99ae235-ORD', 'content-encoding': 'gzip'})\n",
      "DEBUG:openai._base_client:request_id: req_011CNTgvd6QDjruWa3AxWZP4\n"
     ]
    },
    {
     "data": {
      "text/markdown": [
       "Here's a summary of Edward Donner's website in markdown:\n",
       "\n",
       "# Edward Donner's Personal Website\n",
       "\n",
       "## About Ed\n",
       "- Co-founder and CTO of **Nebula.io**\n",
       "- Previously founded AI startup untapt (acquired in 2021)\n",
       "- Focuses on AI and LLM technology\n",
       "- Interests include coding, LLM experimentation, DJing, and electronic music production\n",
       "\n",
       "## Professional Work\n",
       "- Leading Nebula.io, which applies AI to talent discovery and recruitment\n",
       "- Works with proprietary LLMs specialized in talent management\n",
       "- Holds patents for matching models\n",
       "- Platform has received awards and media coverage\n",
       "\n",
       "## Recent Posts/Announcements\n",
       "1. The Complete Agentic AI Engineering Course (April 2025)\n",
       "2. LLM Workshop – Hands-on with Agents – resources (January 2025)\n",
       "3. Welcome, SuperDataScientists! (December 2024)\n",
       "4. Mastering AI and LLM Engineering – Resources (November 2024)\n",
       "\n",
       "## Projects\n",
       "- **Connect Four**: (Project details not provided)\n",
       "- **Outsmart**: An arena for LLMs to compete in diplomacy and deviousness\n",
       "\n",
       "The website serves as a professional portfolio and blog, focusing primarily on AI, LLM engineering, and talent technology."
      ],
      "text/plain": [
       "<IPython.core.display.Markdown object>"
      ]
     },
     "metadata": {},
     "output_type": "display_data"
    }
   ],
   "source": [
    "url = \"https://edwarddonner.com\"\n",
    "display_summary_openai(url)"
   ]
  },
  {
   "cell_type": "code",
   "execution_count": 25,
   "id": "72680d36",
   "metadata": {},
   "outputs": [],
   "source": [
    "def messages_for(website):\n",
    "    return {\"system\": system_prompt,\n",
    "            \"messages\":[\n",
    "                        {\"role\": \"user\", \"content\": user_prompt_for(website)}\n",
    "                ]\n",
    "            }"
   ]
  },
  {
   "cell_type": "code",
   "execution_count": 26,
   "id": "f841dc74",
   "metadata": {},
   "outputs": [
    {
     "name": "stderr",
     "output_type": "stream",
     "text": [
      "DEBUG:urllib3.connectionpool:Starting new HTTPS connection (1): api.anthropic.com:443\n",
      "DEBUG:urllib3.connectionpool:https://api.anthropic.com:443 \"POST /v1/messages HTTP/1.1\" 200 None\n"
     ]
    },
    {
     "name": "stdout",
     "output_type": "stream",
     "text": [
      "Claude says:\n",
      " Max Planck (1858-1947) was a renowned German theoretical physicist who is considered one of the most important scientific figures of the 20th century. He is best known for:\n",
      "\n",
      "1. Founding quantum theory: In 1900, he proposed that energy is emitted and absorbed in discrete packets called \"quanta\" rather than as a continuous wave. This revolutionary idea laid the foundation for quantum physics.\n",
      "\n",
      "2. Planck's constant: He introduced what became known as Planck's constant (h), a fundamental physical constant that is crucial to quantum mechanics.\n",
      "\n",
      "3. Black-body radiation: He solved the ultraviolet catastrophe problem by explaining black-body radiation through his quantum theory.\n",
      "\n",
      "4. Nobel Prize: He was awarded the Nobel Prize in Physics in 1918 for his discovery of energy quanta.\n",
      "\n",
      "5. Scientific legacy: He also made significant contributions to thermodynamics, statistical mechanics, and special relativity.\n",
      "\n",
      "6. Institutional impact: He served as president of the Kaiser Wilhelm Society (now Max Planck Society), Germany's leading scientific research organization.\n",
      "\n",
      "Planck's work fundamentally changed our understanding of atomic and subatomic processes, and his discoveries continue to influence modern physics. The Max Planck Society and the Planck scale are named in his honor.\n"
     ]
    }
   ],
   "source": [
    "import requests\n",
    "import json\n",
    "\n",
    "def ask_claude(prompt, api_key, model=\"claude-3-sonnet-20240229\", max_tokens=1024):\n",
    "    url = \"https://api.anthropic.com/v1/messages\"\n",
    "    \n",
    "    headers = {\n",
    "        \"x-api-key\": api_key,\n",
    "        \"anthropic-version\": \"2023-06-01\",\n",
    "        \"Content-Type\": \"application/json\"\n",
    "    }\n",
    "\n",
    "    payload = {\n",
    "        \"model\": MODEL,\n",
    "        \"max_tokens\": max_tokens,\n",
    "        \"messages\": [\n",
    "            {\"role\": \"user\", \"content\": prompt}\n",
    "        ]\n",
    "    }\n",
    "\n",
    "    response = requests.post(url, headers=headers, data=json.dumps(payload))\n",
    "\n",
    "    if response.status_code == 200:\n",
    "        data = response.json()\n",
    "        return data[\"content\"][0][\"text\"]\n",
    "    else:\n",
    "        raise Exception(f\"Error {response.status_code}: {response.text}\")\n",
    "\n",
    "# Example usage\n",
    "if __name__ == \"__main__\":\n",
    "    API_KEY = ANTHROPIC_API_KEY\n",
    "    prompt = \"Explain the concept of retrieval-augmented generation in simple terms.\"\n",
    "    website = \"https://edwarddonner.com\"\n",
    "    PROMPT = \"Who is Max Plank?\"\n",
    "\n",
    "    try:\n",
    "        answer = ask_claude(prompt=PROMPT, api_key=API_KEY)\n",
    "        print(\"Claude says:\\n\", answer)\n",
    "    except Exception as e:\n",
    "        print(e)\n"
   ]
  },
  {
   "cell_type": "code",
   "execution_count": null,
   "id": "a9c3e72b",
   "metadata": {},
   "outputs": [],
   "source": []
  },
  {
   "cell_type": "code",
   "execution_count": null,
   "id": "8161519c",
   "metadata": {},
   "outputs": [],
   "source": []
  }
 ],
 "metadata": {
  "kernelspec": {
   "display_name": ".venv",
   "language": "python",
   "name": "python3"
  },
  "language_info": {
   "codemirror_mode": {
    "name": "ipython",
    "version": 3
   },
   "file_extension": ".py",
   "mimetype": "text/x-python",
   "name": "python",
   "nbconvert_exporter": "python",
   "pygments_lexer": "ipython3",
   "version": "3.11.3"
  }
 },
 "nbformat": 4,
 "nbformat_minor": 5
}
