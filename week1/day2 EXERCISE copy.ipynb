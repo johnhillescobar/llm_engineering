{
 "cells": [
  {
   "cell_type": "markdown",
   "id": "d15d8294-3328-4e07-ad16-8a03e9bbfdb9",
   "metadata": {},
   "source": [
    "# Welcome to your first assignment!\n",
    "\n",
    "Instructions are below. Please give this a try, and look in the solutions folder if you get stuck (or feel free to ask me!)"
   ]
  },
  {
   "cell_type": "markdown",
   "id": "ada885d9-4d42-4d9b-97f0-74fbbbfe93a9",
   "metadata": {},
   "source": [
    "<table style=\"margin: 0; text-align: left;\">\n",
    "    <tr>\n",
    "        <td style=\"width: 150px; height: 150px; vertical-align: middle;\">\n",
    "            <img src=\"../resources.jpg\" width=\"150\" height=\"150\" style=\"display: block;\" />\n",
    "        </td>\n",
    "        <td>\n",
    "            <h2 style=\"color:#f71;\">Just before we get to the assignment --</h2>\n",
    "            <span style=\"color:#f71;\">I thought I'd take a second to point you at this page of useful resources for the course. This includes links to all the slides.<br/>\n",
    "            <a href=\"https://edwarddonner.com/2024/11/13/llm-engineering-resources/\">https://edwarddonner.com/2024/11/13/llm-engineering-resources/</a><br/>\n",
    "            Please keep this bookmarked, and I'll continue to add more useful links there over time.\n",
    "            </span>\n",
    "        </td>\n",
    "    </tr>\n",
    "</table>"
   ]
  },
  {
   "cell_type": "markdown",
   "id": "6e9fa1fc-eac5-4d1d-9be4-541b3f2b3458",
   "metadata": {},
   "source": [
    "# HOMEWORK EXERCISE ASSIGNMENT\n",
    "\n",
    "Upgrade the day 1 project to summarize a webpage to use an Open Source model running locally via Ollama rather than OpenAI\n",
    "\n",
    "You'll be able to use this technique for all subsequent projects if you'd prefer not to use paid APIs.\n",
    "\n",
    "**Benefits:**\n",
    "1. No API charges - open-source\n",
    "2. Data doesn't leave your box\n",
    "\n",
    "**Disadvantages:**\n",
    "1. Significantly less power than Frontier Model\n",
    "\n",
    "## Recap on installation of Ollama\n",
    "\n",
    "Simply visit [ollama.com](https://ollama.com) and install!\n",
    "\n",
    "Once complete, the ollama server should already be running locally.  \n",
    "If you visit:  \n",
    "[http://localhost:11434/](http://localhost:11434/)\n",
    "\n",
    "You should see the message `Ollama is running`.  \n",
    "\n",
    "If not, bring up a new Terminal (Mac) or Powershell (Windows) and enter `ollama serve`  \n",
    "And in another Terminal (Mac) or Powershell (Windows), enter `ollama pull llama3.2`  \n",
    "Then try [http://localhost:11434/](http://localhost:11434/) again.\n",
    "\n",
    "If Ollama is slow on your machine, try using `llama3.2:1b` as an alternative. Run `ollama pull llama3.2:1b` from a Terminal or Powershell, and change the code below from `MODEL = \"llama3.2\"` to `MODEL = \"llama3.2:1b\"`"
   ]
  },
  {
   "cell_type": "code",
   "execution_count": 11,
   "id": "4e2a9393-7767-488e-a8bf-27c12dca35bd",
   "metadata": {},
   "outputs": [],
   "source": [
    "# imports\n",
    "\n",
    "import requests\n",
    "from bs4 import BeautifulSoup\n",
    "from IPython.display import Markdown, display"
   ]
  },
  {
   "cell_type": "code",
   "execution_count": 12,
   "id": "29ddd15d-a3c5-4f4e-a678-873f56162724",
   "metadata": {},
   "outputs": [],
   "source": [
    "# Constants\n",
    "\n",
    "OLLAMA_API = \"http://localhost:11434/api/chat\"\n",
    "HEADERS = {\"Content-Type\": \"application/json\"}\n",
    "MODEL = \"llama3.2\""
   ]
  },
  {
   "cell_type": "code",
   "execution_count": 13,
   "id": "dac0a679-599c-441f-9bf2-ddc73d35b940",
   "metadata": {},
   "outputs": [],
   "source": [
    "# Create a messages list using the same format that we used for OpenAI\n",
    "\n",
    "messages = [\n",
    "    {\"role\": \"user\", \"content\": \"Describe some of the business applications of Generative AI\"}\n",
    "]"
   ]
  },
  {
   "cell_type": "code",
   "execution_count": 14,
   "id": "7bb9c624-14f0-4945-a719-8ddb64f66f47",
   "metadata": {},
   "outputs": [],
   "source": [
    "payload = {\n",
    "        \"model\": MODEL,\n",
    "        \"messages\": messages,\n",
    "        \"stream\": False\n",
    "    }"
   ]
  },
  {
   "cell_type": "code",
   "execution_count": 15,
   "id": "479ff514-e8bd-4985-a572-2ea28bb4fa40",
   "metadata": {},
   "outputs": [
    {
     "name": "stderr",
     "output_type": "stream",
     "text": [
      "\u001b[?25lpulling manifest ⠋ \u001b[?25h\u001b[?25l\u001b[2K\u001b[1Gpulling manifest ⠙ \u001b[?25h\u001b[?25l\u001b[2K\u001b[1Gpulling manifest ⠹ \u001b[?25h\u001b[?25l\u001b[2K\u001b[1Gpulling manifest ⠸ \u001b[?25h\u001b[?25l\u001b[2K\u001b[1Gpulling manifest ⠼ \u001b[?25h\u001b[?25l\u001b[2K\u001b[1Gpulling manifest \n",
      "pulling dde5aa3fc5ff... 100% ▕████████████████▏ 2.0 GB                         \n",
      "pulling 966de95ca8a6... 100% ▕████████████████▏ 1.4 KB                         \n",
      "pulling fcc5a6bec9da... 100% ▕████████████████▏ 7.7 KB                         \n",
      "pulling a70ff7e570d9... 100% ▕████████████████▏ 6.0 KB                         \n",
      "pulling 56bb8bd477a5... 100% ▕████████████████▏   96 B                         \n",
      "pulling 34bb5ab01051... 100% ▕████████████████▏  561 B                         \n",
      "verifying sha256 digest \n",
      "writing manifest \n",
      "success \u001b[?25h\n"
     ]
    }
   ],
   "source": [
    "# Let's just make sure the model is loaded\n",
    "\n",
    "!ollama pull llama3.2"
   ]
  },
  {
   "cell_type": "code",
   "execution_count": 16,
   "id": "42b9f644-522d-4e05-a691-56e7658c0ea9",
   "metadata": {},
   "outputs": [
    {
     "name": "stdout",
     "output_type": "stream",
     "text": [
      "Generative Artificial Intelligence (AI) has numerous business applications across various industries. Some of the most significant uses of generative AI include:\n",
      "\n",
      "1. **Content Creation**: Generative AI can generate high-quality content such as articles, social media posts, product descriptions, and more. This helps businesses save time and resources while maintaining consistency in their content.\n",
      "2. **Image and Video Generation**: Generative AI can create realistic images and videos that can be used for various purposes like marketing materials, e-learning content, or even entertainment.\n",
      "3. **Chatbots and Virtual Assistants**: Generative AI enables the creation of more sophisticated chatbots and virtual assistants that can understand and respond to user queries in a more natural and human-like way.\n",
      "4. **Predictive Analytics**: Generative AI can analyze large amounts of data and generate predictions, forecasts, and recommendations for businesses to make informed decisions.\n",
      "5. **Product Design and Development**: Generative AI can help design new products by generating 3D models, prototypes, and simulations, reducing the time and cost associated with traditional product development processes.\n",
      "6. **Marketing Automation**: Generative AI can automate marketing tasks such as lead generation, email marketing, and social media management, allowing businesses to focus on high-value activities.\n",
      "7. **Customer Service**: Generative AI-powered chatbots and virtual assistants can provide 24/7 customer support, helping businesses improve their customer experience and reduce response times.\n",
      "8. **Sales and Lead Generation**: Generative AI can analyze sales data, generate leads, and predict potential customers, enabling businesses to optimize their sales strategies.\n",
      "9. **Data Labeling and Annotation**: Generative AI can automate the process of labeling and annotating data, reducing the time and cost associated with human annotation tasks.\n",
      "10. **Cybersecurity**: Generative AI can help detect and respond to cybersecurity threats by generating realistic malware samples, predicting attack patterns, and identifying vulnerabilities.\n",
      "\n",
      "Some specific industries that are leveraging generative AI include:\n",
      "\n",
      "1. **Finance and Banking**: Generative AI is being used for risk assessment, credit scoring, and portfolio optimization.\n",
      "2. **Healthcare**: Generative AI is being used for medical image analysis, patient data analysis, and personalized medicine.\n",
      "3. **Retail and E-commerce**: Generative AI is being used for product recommendation systems, content generation, and customer service chatbots.\n",
      "4. **Media and Entertainment**: Generative AI is being used for content creation, music production, and visual effects.\n",
      "\n",
      "These are just a few examples of the many business applications of generative AI. As the technology continues to evolve, we can expect to see even more innovative uses across various industries.\n"
     ]
    }
   ],
   "source": [
    "# If this doesn't work for any reason, try the 2 versions in the following cells\n",
    "# And double check the instructions in the 'Recap on installation of Ollama' at the top of this lab\n",
    "# And if none of that works - contact me!\n",
    "\n",
    "response = requests.post(OLLAMA_API, json=payload, headers=HEADERS)\n",
    "print(response.json()['message']['content'])"
   ]
  },
  {
   "cell_type": "code",
   "execution_count": 17,
   "id": "7745b9c4-57dc-4867-9180-61fa5db55eb8",
   "metadata": {},
   "outputs": [
    {
     "name": "stdout",
     "output_type": "stream",
     "text": [
      "Generative AI has numerous business applications across various industries. Here are some examples:\n",
      "\n",
      "1. **Content Generation**: Generative AI can be used to generate high-quality content such as articles, social media posts, product descriptions, and more. This can help businesses save time and resources on content creation.\n",
      "2. **Image and Video Creation**: Generative AI can create realistic images and videos that can be used for marketing, advertising, and branding purposes. For example, AI-generated models of products or scenes can be used to create engaging visuals without the need for expensive photo shoots.\n",
      "3. **Chatbots and Virtual Assistants**: Generative AI can be used to power chatbots and virtual assistants, enabling businesses to provide 24/7 customer support and improve user engagement.\n",
      "4. **Product Design and Development**: Generative AI can be used to design and develop new products, such as furniture, electronics, or even entire buildings. This can help businesses reduce the time and cost associated with traditional product design and development processes.\n",
      "5. **Data Analysis and Visualization**: Generative AI can be used to analyze large datasets and generate visualizations that help businesses gain insights into customer behavior, market trends, and more.\n",
      "6. **Marketing and Advertising**: Generative AI can be used to create personalized marketing campaigns, predict consumer behavior, and optimize ad targeting. This can help businesses improve their return on investment (ROI) and reduce marketing waste.\n",
      "7. **Language Translation**: Generative AI can be used to generate human-like language translations that are more accurate and natural-sounding than traditional machine translation algorithms.\n",
      "8. **Music and Audio Generation**: Generative AI can be used to create original music, sound effects, and audio loops that can be used in various applications such as video games, films, and advertising.\n",
      "9. **Fashion Design**: Generative AI can be used to generate fashion designs, patterns, and textures that can be used by designers or used directly by consumers through online platforms.\n",
      "10. **Predictive Maintenance**: Generative AI can be used to predict equipment failures and maintain equipment, reducing downtime and increasing overall efficiency.\n",
      "\n",
      "Some specific business applications of Generative AI include:\n",
      "\n",
      "* Automating customer service and support\n",
      "* Generating personalized content for marketing campaigns\n",
      "* Creating realistic avatars for virtual reality experiences\n",
      "* Designing and developing new products and prototypes\n",
      "* Analyzing customer behavior and predicting sales trends\n",
      "* Generating original music, sound effects, and audio loops\n",
      "\n",
      "These are just a few examples of the many business applications of Generative AI. As the technology continues to evolve, we can expect to see even more innovative uses in various industries.\n"
     ]
    }
   ],
   "source": [
    "import ollama\n",
    "\n",
    "response = ollama.chat(model=MODEL, messages=messages)\n",
    "print(response['message']['content'])"
   ]
  },
  {
   "cell_type": "markdown",
   "id": "6a021f13-d6a1-4b96-8e18-4eae49d876fe",
   "metadata": {},
   "source": [
    "# Introducing the ollama package\n",
    "\n",
    "And now we'll do the same thing, but using the elegant ollama python package instead of a direct HTTP call.\n",
    "\n",
    "Under the hood, it's making the same call as above to the ollama server running at localhost:11434"
   ]
  },
  {
   "cell_type": "markdown",
   "id": "a4704e10-f5fb-4c15-a935-f046c06fb13d",
   "metadata": {},
   "source": [
    "## Alternative approach - using OpenAI python library to connect to Ollama"
   ]
  },
  {
   "cell_type": "code",
   "execution_count": 18,
   "id": "23057e00-b6fc-4678-93a9-6b31cb704bff",
   "metadata": {},
   "outputs": [
    {
     "name": "stdout",
     "output_type": "stream",
     "text": [
      "Generative AI has numerous business applications across various industries. Here are some examples:\n",
      "\n",
      "1. **Content Generation**: Generative AI can produce high-quality, unique content such as articles, social media posts, product descriptions, and more. This can help businesses streamline their content creation process, reduce costs, and improve consistency.\n",
      "2. **Image and Video Generation**: Generative AI can generate images and videos that mimic real-world scenes, making it ideal for visualizing products, services, or brands. This can be used in e-commerce, advertising, and marketing campaigns.\n",
      "3. **Chatbots and Virtual Assistants**: Generative AI can power chatbots and virtual assistants to provide personalized customer experiences, answer frequent questions, and route customers to human support agents.\n",
      "4. **Predictive Analytics**: Generative AI can analyze data patterns and predict future trends, helping businesses make informed decisions about pricing, inventory management, and resource allocation.\n",
      "5. **Natural Language Processing (NLP)**: Generative AI can help with NLP tasks such as text summarization, sentiment analysis, and language translation, enabling businesses to better understand customer needs and preferences.\n",
      "6. **Design and Architecture**: Generative AI can assist in design and architecture by generating 3D models, blueprints, and other visualizations, reducing the time and cost of the design process.\n",
      "7. **Music and Audio Generation**: Generative AI can create unique music compositions, soundscapes, and audio effects, opening up new possibilities for businesses in entertainment, advertising, and marketing.\n",
      "8. **Language Translation**: Generative AI can translate text and speech in real-time, enabling businesses to break language barriers and expand their global reach.\n",
      "9. **Document Generation**: Generative AI can generate templates for documents such as contracts, invoices, and reports, reducing manual work and improving data accuracy.\n",
      "10. **Data Augmentation**: Generative AI can enhance existing datasets by generating new, synthetic data points, helping businesses prepare for new technologies and applications.\n",
      "\n",
      "Some specific business use cases include:\n",
      "\n",
      "* **Manufacturing**: Generative AI can optimize production workflows, predict equipment failures, and design customized products.\n",
      "* **Retail**: Generative AI can create personalized product recommendations, generate high-quality product images, and support chatbots for customer service.\n",
      "* **Financial Services**: Generative AI can analyze large datasets to identify patterns, predict credit risk, and generate new investment opportunities.\n",
      "* **Healthcare**: Generative AI can help diagnose diseases, develop personalized treatment plans, and streamline clinical workflows.\n",
      "\n",
      "These are just a few examples of the many business applications of Generative AI. As the technology continues to evolve, we can expect even more innovative solutions to emerge.\n"
     ]
    }
   ],
   "source": [
    "# There's actually an alternative approach that some people might prefer\n",
    "# You can use the OpenAI client python library to call Ollama:\n",
    "\n",
    "from openai import OpenAI\n",
    "ollama_via_openai = OpenAI(base_url='http://localhost:11434/v1', api_key='ollama')\n",
    "\n",
    "response = ollama_via_openai.chat.completions.create(\n",
    "    model=MODEL,\n",
    "    messages=messages\n",
    ")\n",
    "\n",
    "print(response.choices[0].message.content)"
   ]
  },
  {
   "cell_type": "markdown",
   "id": "9f9e22da-b891-41f6-9ac9-bd0c0a5f4f44",
   "metadata": {},
   "source": [
    "## Are you confused about why that works?\n",
    "\n",
    "It seems strange, right? We just used OpenAI code to call Ollama?? What's going on?!\n",
    "\n",
    "Here's the scoop:\n",
    "\n",
    "The python class `OpenAI` is simply code written by OpenAI engineers that makes calls over the internet to an endpoint.  \n",
    "\n",
    "When you call `openai.chat.completions.create()`, this python code just makes a web request to the following url: \"https://api.openai.com/v1/chat/completions\"\n",
    "\n",
    "Code like this is known as a \"client library\" - it's just wrapper code that runs on your machine to make web requests. The actual power of GPT is running on OpenAI's cloud behind this API, not on your computer!\n",
    "\n",
    "OpenAI was so popular, that lots of other AI providers provided identical web endpoints, so you could use the same approach.\n",
    "\n",
    "So Ollama has an endpoint running on your local box at http://localhost:11434/v1/chat/completions  \n",
    "And in week 2 we'll discover that lots of other providers do this too, including Gemini and DeepSeek.\n",
    "\n",
    "And then the team at OpenAI had a great idea: they can extend their client library so you can specify a different 'base url', and use their library to call any compatible API.\n",
    "\n",
    "That's it!\n",
    "\n",
    "So when you say: `ollama_via_openai = OpenAI(base_url='http://localhost:11434/v1', api_key='ollama')`  \n",
    "Then this will make the same endpoint calls, but to Ollama instead of OpenAI."
   ]
  },
  {
   "cell_type": "markdown",
   "id": "bc7d1de3-e2ac-46ff-a302-3b4ba38c4c90",
   "metadata": {},
   "source": [
    "## Also trying the amazing reasoning model DeepSeek\n",
    "\n",
    "Here we use the version of DeepSeek-reasoner that's been distilled to 1.5B.  \n",
    "This is actually a 1.5B variant of Qwen that has been fine-tuned using synethic data generated by Deepseek R1.\n",
    "\n",
    "Other sizes of DeepSeek are [here](https://ollama.com/library/deepseek-r1) all the way up to the full 671B parameter version, which would use up 404GB of your drive and is far too large for most!"
   ]
  },
  {
   "cell_type": "code",
   "execution_count": 19,
   "id": "cf9eb44e-fe5b-47aa-b719-0bb63669ab3d",
   "metadata": {},
   "outputs": [
    {
     "name": "stderr",
     "output_type": "stream",
     "text": [
      "\u001b[?25lpulling manifest ⠋ \u001b[?25h\u001b[?25l\u001b[2K\u001b[1Gpulling manifest ⠙ \u001b[?25h\u001b[?25l\u001b[2K\u001b[1Gpulling manifest ⠹ \u001b[?25h\u001b[?25l\u001b[2K\u001b[1Gpulling manifest ⠸ \u001b[?25h\u001b[?25l\u001b[2K\u001b[1Gpulling manifest \n",
      "pulling aabd4debf0c8... 100% ▕████████████████▏ 1.1 GB                         \n",
      "pulling 369ca498f347... 100% ▕████████████████▏  387 B                         \n",
      "pulling 6e4c38e1172f... 100% ▕████████████████▏ 1.1 KB                         \n",
      "pulling f4d24e9138dd... 100% ▕████████████████▏  148 B                         \n",
      "pulling a85fe2a2e58e... 100% ▕████████████████▏  487 B                         \n",
      "verifying sha256 digest \n",
      "writing manifest \n",
      "success \u001b[?25h\n"
     ]
    }
   ],
   "source": [
    "!ollama pull deepseek-r1:1.5b"
   ]
  },
  {
   "cell_type": "code",
   "execution_count": 20,
   "id": "1d3d554b-e00d-4c08-9300-45e073950a76",
   "metadata": {},
   "outputs": [
    {
     "name": "stdout",
     "output_type": "stream",
     "text": [
      "<think>\n",
      "Okay, so I need to figure out how to provide clear definitions for three core concepts related to Large Language Models (LLMs): neural networks, attention mechanisms, and transformers. I think I remember that these terms are interconnected in computing and AI but I'm not entirely sure about all the details.\n",
      "\n",
      "First, starting with a Neural Network. From what I recall, a neural network is a type of model inspired by the structure and function of the human brain's biological neural networks. It consists of layers of interconnected nodes or \"neurons\" which process data through these connections to extract patterns and make decisions or predictions. These networks are used in various AI tasks like image recognition, speech processing, and more. But I'm not 100% certain about all the components involved.\n",
      "\n",
      "Next, attention mechanisms. I think this has something to do with how models focus on specific parts of input data. The idea is that during computation, or when processing input, the model can weigh each part by its relevance or importance. This could be similar to how humans and animals pay attention to important words or facial features. Without attention, a neural network might process all inputs at once without prioritizing, which would limit its performance.\n",
      "\n",
      "Now, transformers themselves. I remember there are different models, and transformers might refer to one specific variant. From what I can gather, transformers use self-attention mechanisms. That means each part of the model can compute how important it is for any other piece when processing input. This seems crucial because it allows the model to weigh the importance dynamically, which improves efficiency and performance.\n",
      "\n",
      "Putting this together: A neural network is an AI model inspired by the brain, consisting of layers that process data through connected nodes. Attention mechanisms let models focus on specific data parts during computation, often using self-attention from transformers where each part computes its importance relative to others.\n",
      "\n",
      "I wonder if these definitions are all correct. Maybe I should verify each term's accuracy. Also, how do they interrelate? Is every transformer a neural network with attention layers? That seems logical because understanding input is a key function of both types of models, and self-attention is a core component for transformers. Neural networks themselves might consist of multiple layers that include attention mechanisms to process data effectively.\n",
      "\n",
      "I should make sure each definition is distinct but connected. The user requested some core concepts behind LLMs, so I need to highlight not just the components but also their role in processing language tasks effectively.\n",
      "\n",
      "Maybe I should structure it as follows: For each term (neural network, attention, transformer), define it briefly then tie them together explaining how transformers rely on the neural network's function and include attention in their computation. That way, the user gets a clear understanding.\n",
      "</think>\n",
      "\n",
      "**Definitions of Core Concepts Behind Large Language Models (LLMs)**\n",
      "\n",
      "1. **Neural Network:**\n",
      "   A neural network is an AI model inspired by the structure and function of the human brain's biological neural networks. It consists of interconnected nodes or \"neurons\" that process information through layers, enabling it to extract patterns and make decisions or predictions.\n",
      "\n",
      "2. **Attention Mechanisms:**\n",
      "   In computing systems, attention refers to how models focus on specific parts of input data during computation. During processing, the model assigns weights to each part based on their relevance, allowing the system to dynamically prioritize important components without overly complex structures.\n",
      "\n",
      "3. **Transformers:**\n",
      "   Transformers are a type of AI architecture that uses self-attention mechanisms within their layers. This allows each component in the model to compute its importance relative to others when processing input data, enhancing efficiency and performance by enabling dynamic focus on relevant parts.\n",
      "\n",
      "These concepts interrelate with transformers relying on neural networks for their self-attention processes when computing attention, making them particularly effective at handling complex language tasks.\n"
     ]
    }
   ],
   "source": [
    "# This may take a few minutes to run! You should then see a fascinating \"thinking\" trace inside <think> tags, followed by some decent definitions\n",
    "\n",
    "response = ollama_via_openai.chat.completions.create(\n",
    "    model=\"deepseek-r1:1.5b\",\n",
    "    messages=[{\"role\": \"user\", \"content\": \"Please give definitions of some core concepts behind LLMs: a neural network, attention and the transformer\"}]\n",
    ")\n",
    "\n",
    "print(response.choices[0].message.content)"
   ]
  },
  {
   "cell_type": "markdown",
   "id": "1622d9bb-5c68-4d4e-9ca4-b492c751f898",
   "metadata": {},
   "source": [
    "# NOW the exercise for you\n",
    "\n",
    "Take the code from day1 and incorporate it here, to build a website summarizer that uses Llama 3.2 running locally instead of OpenAI; use either of the above approaches."
   ]
  },
  {
   "cell_type": "code",
   "execution_count": null,
   "id": "6de38216-6d1c-48c4-877b-86d403f4e0f8",
   "metadata": {},
   "outputs": [],
   "source": []
  }
 ],
 "metadata": {
  "kernelspec": {
   "display_name": ".venv",
   "language": "python",
   "name": "python3"
  },
  "language_info": {
   "codemirror_mode": {
    "name": "ipython",
    "version": 3
   },
   "file_extension": ".py",
   "mimetype": "text/x-python",
   "name": "python",
   "nbconvert_exporter": "python",
   "pygments_lexer": "ipython3",
   "version": "3.11.3"
  }
 },
 "nbformat": 4,
 "nbformat_minor": 5
}
