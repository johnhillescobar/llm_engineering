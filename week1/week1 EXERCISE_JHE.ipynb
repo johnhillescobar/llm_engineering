{
 "cells": [
  {
   "cell_type": "markdown",
   "id": "fe12c203-e6a6-452c-a655-afb8a03a4ff5",
   "metadata": {},
   "source": [
    "# End of week 1 exercise\n",
    "\n",
    "To demonstrate your familiarity with OpenAI API, and also Ollama, build a tool that takes a technical question,  \n",
    "and responds with an explanation. This is a tool that you will be able to use yourself during the course!"
   ]
  },
  {
   "cell_type": "code",
   "execution_count": 1,
   "id": "c1070317-3ed9-4659-abe3-828943230e03",
   "metadata": {},
   "outputs": [],
   "source": [
    "# imports\n",
    "\n",
    "import os\n",
    "import requests\n",
    "from dotenv import load_dotenv\n",
    "from bs4 import BeautifulSoup\n",
    "from IPython.display import Markdown, display\n",
    "from openai import OpenAI\n",
    "import ollama"
   ]
  },
  {
   "cell_type": "code",
   "execution_count": 2,
   "id": "4a456906-915a-4bfd-bb9d-57e505c5093f",
   "metadata": {},
   "outputs": [],
   "source": [
    "# constants\n",
    "\n",
    "MODEL_GPT = 'gpt-4o-mini'\n",
    "MODEL_LLAMA = 'llama3.2'"
   ]
  },
  {
   "cell_type": "code",
   "execution_count": 3,
   "id": "a8d7923c-5f28-4c30-8556-342d7c8497c1",
   "metadata": {},
   "outputs": [
    {
     "data": {
      "text/plain": [
       "True"
      ]
     },
     "execution_count": 3,
     "metadata": {},
     "output_type": "execute_result"
    }
   ],
   "source": [
    "# set up environment\n",
    "from dotenv import load_dotenv\n",
    "load_dotenv()"
   ]
  },
  {
   "cell_type": "code",
   "execution_count": 4,
   "id": "baec6ba9",
   "metadata": {},
   "outputs": [],
   "source": [
    "system_prompt = \"\"\"\n",
    "You are a helpful assistant. You will be given a Python script and you will provide a summary of the script,\\\n",
    " including its purpose, key functions, and any important details. If the script is too long, you can summarize it in parts.\n",
    "\"\"\""
   ]
  },
  {
   "cell_type": "code",
   "execution_count": 5,
   "id": "3f0d0137-52b0-47a8-81a8-11a90a010798",
   "metadata": {},
   "outputs": [],
   "source": [
    "# here is the question; type over this to ask something new\n",
    "\n",
    "question = \"\"\"\n",
    "Please explain what this code does and why:\n",
    "yield from {book.get(\"author\") for book in books if book.get(\"author\")}\n",
    "\"\"\""
   ]
  },
  {
   "cell_type": "code",
   "execution_count": 11,
   "id": "9cca2f4e",
   "metadata": {},
   "outputs": [],
   "source": [
    "def messages_for(question: str):\n",
    "    return [\n",
    "        {\"role\": \"system\", \"content\": system_prompt},\n",
    "        {\"role\": \"user\", \"content\": question}\n",
    "    ]\n",
    "\n",
    "# set up Ollama Pagckage\n",
    "def summarize_package_ollama(question: str):\n",
    "\n",
    "    response = ollama.chat(model=MODEL_LLAMA, messages=messages_for(question))\n",
    "    \n",
    "    return response[\"message\"][\"content\"]\n",
    "\n",
    "def display_summary_package_ollama(question: str):\n",
    "    summary = summarize_package_ollama(question)\n",
    "    display(Markdown(summary))\n",
    "\n",
    "# set up OpenAI API\n",
    "def summarize_package_openai(question: str):\n",
    "    openai = OpenAI(api_key=os.getenv(\"OPENAI_API_KEY\"))\n",
    "    response = openai.chat.completions.create(\n",
    "        model=MODEL_GPT,\n",
    "        messages=messages_for(question),\n",
    "        temperature=0.7,\n",
    "        max_tokens=1500\n",
    "    )\n",
    "    return response.choices[0].message.content\n",
    "\n",
    "def display_summary_package_openai(question: str):\n",
    "    summary = summarize_package_openai(question)\n",
    "    display(Markdown(summary))"
   ]
  },
  {
   "cell_type": "code",
   "execution_count": 7,
   "id": "60ce7000-a4a5-4cce-a261-e75ef45063b4",
   "metadata": {},
   "outputs": [
    {
     "data": {
      "text/markdown": [
       "This line of code is using a generator expression in Python to yield values from a set comprehension. Let's break down the components to understand its purpose and functionality:\n",
       "\n",
       "1. **Context**: The code snippet uses the `yield from` syntax, which is typically used within a generator function to yield all values from an iterable (in this case, a set) one by one.\n",
       "\n",
       "2. **Set Comprehension**: The part `{book.get(\"author\") for book in books if book.get(\"author\")}` is a set comprehension. It constructs a set containing the authors of books. \n",
       "\n",
       "   - `for book in books`: This iterates over a collection called `books`, which is expected to be a list (or any iterable) of dictionaries, where each dictionary represents a book.\n",
       "   - `book.get(\"author\")`: This attempts to retrieve the value associated with the key `\"author\"` from each book dictionary. \n",
       "   - `if book.get(\"author\")`: This condition filters out any books that do not have an author (i.e., where the author key is missing or its value is `None`).\n",
       "\n",
       "3. **Yielding Unique Authors**: Because it uses a set comprehension, the resulting set will contain unique author names (if multiple books have the same author, that author will only appear once in the set).\n",
       "\n",
       "### Summary of Purpose:\n",
       "The overall purpose of this line of code is to create a generator that yields each unique author from a list of book dictionaries, provided the author information exists for those books. This can be useful for processing or displaying a list of authors without duplicates.\n",
       "\n",
       "### Important Details:\n",
       "- The use of `yield from` means that this code is likely part of a generator function, allowing it to be used in a context where values are produced over time rather than computed all at once.\n",
       "- The filtering ensures that only books with valid author information are considered, making the output more meaningful and avoiding `None` or missing values."
      ],
      "text/plain": [
       "<IPython.core.display.Markdown object>"
      ]
     },
     "metadata": {},
     "output_type": "display_data"
    }
   ],
   "source": [
    "# Get gpt-4o-mini to answer, with streaming\n",
    "\n",
    "display_summary_package_openai(question)"
   ]
  },
  {
   "cell_type": "code",
   "execution_count": 12,
   "id": "8f7c8ea8-4082-4ad0-8751-3301adcf6538",
   "metadata": {},
   "outputs": [
    {
     "data": {
      "text/markdown": [
       "**Code Explanation**\n",
       "\n",
       "This line of code uses a combination of Python's built-in functions to extract author names from a list of dictionaries.\n",
       "\n",
       "Here's a breakdown:\n",
       "\n",
       "* `yield from`: This keyword is used with generators. It delegates the iteration to another generator or iterable, allowing the resulting generator to produce values from each source.\n",
       "* `{book.get(\"author\") for book in books if book.get(\"author\")}`: This is an iterable expression that generates author names from a list of dictionaries (`books`). It's similar to a list comprehension, but returns an iterator instead.\n",
       "\n",
       "**How it works**\n",
       "\n",
       "1. The `yield from` clause tells Python to delegate the iteration to another generator.\n",
       "2. The dictionary expression `{book.get(\"author\") for book in books if book.get(\"author\")}` generates author names by iterating over each dictionary (`book`) in the list `books`.\n",
       "3. For each dictionary, it checks if the \"author\" key exists using `book.get(\"author\")`. If it does, its value is yielded as a string.\n",
       "4. The resulting iterator produces author names from the dictionaries that have an \"author\" key.\n",
       "\n",
       "**Purpose**\n",
       "\n",
       "The purpose of this code is likely to extract and yield author names from a list of books, filtered by whether each book has an \"author\" attribute.\n",
       "\n",
       "**Example Use Case**\n",
       "\n",
       "Suppose you have a list of books with the following structure:\n",
       "```python\n",
       "books = [\n",
       "    {\"title\": \"Book 1\", \"author\": \"John Doe\"},\n",
       "    {\"title\": \"Book 2\", \"author\": None},\n",
       "    {\"title\": \"Book 3\", \"author\": \"Jane Smith\"}\n",
       "]\n",
       "```\n",
       "Running this code on the `books` list would produce an iterator that yields author names:\n",
       "```python\n",
       "for author in yield from {book.get(\"author\") for book in books if book.get(\"author\")}:\n",
       "    print(author)  # Output: John Doe, Jane Smith\n",
       "```\n",
       "Note that the second book with no \"author\" attribute is skipped."
      ],
      "text/plain": [
       "<IPython.core.display.Markdown object>"
      ]
     },
     "metadata": {},
     "output_type": "display_data"
    }
   ],
   "source": [
    "# Get Llama 3.2 to answer\n",
    "display_summary_package_ollama(question)"
   ]
  }
 ],
 "metadata": {
  "kernelspec": {
   "display_name": ".venv",
   "language": "python",
   "name": "python3"
  },
  "language_info": {
   "codemirror_mode": {
    "name": "ipython",
    "version": 3
   },
   "file_extension": ".py",
   "mimetype": "text/x-python",
   "name": "python",
   "nbconvert_exporter": "python",
   "pygments_lexer": "ipython3",
   "version": "3.11.3"
  }
 },
 "nbformat": 4,
 "nbformat_minor": 5
}
