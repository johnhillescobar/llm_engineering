{
 "cells": [
  {
   "cell_type": "code",
   "execution_count": 19,
   "id": "53d550dd",
   "metadata": {},
   "outputs": [],
   "source": [
    "\n",
    "import os\n",
    "import requests\n",
    "from dotenv import load_dotenv\n",
    "from bs4 import BeautifulSoup\n",
    "from IPython.display import Markdown, display\n",
    "from openai import OpenAI\n",
    "import ollama"
   ]
  },
  {
   "cell_type": "code",
   "execution_count": 20,
   "id": "b83b5806",
   "metadata": {},
   "outputs": [],
   "source": [
    "# A class to represent a Webpage\n",
    "# If you're not familiar with Classes, check out the \"Intermediate Python\" notebook\n",
    "\n",
    "# Some websites need you to use proper headers when fetching them:\n",
    "headers = {\n",
    " \"User-Agent\": \"Mozilla/5.0 (Windows NT 10.0; Win64; x64) AppleWebKit/537.36 (KHTML, like Gecko) Chrome/117.0.0.0 Safari/537.36\"\n",
    "}\n",
    "\n",
    "class Website:\n",
    "\n",
    "    def __init__(self, url):\n",
    "        \"\"\"\n",
    "        Create this Website object from the given url using the BeautifulSoup library\n",
    "        \"\"\"\n",
    "        self.url = url\n",
    "        response = requests.get(url, headers=headers)\n",
    "        soup = BeautifulSoup(response.content, 'html.parser')\n",
    "        self.title = soup.title.string if soup.title else \"No title found\"\n",
    "        for irrelevant in soup.body([\"script\", \"style\", \"img\", \"input\"]):\n",
    "            irrelevant.decompose()\n",
    "        self.text = soup.body.get_text(separator=\"\\n\", strip=True)"
   ]
  },
  {
   "cell_type": "code",
   "execution_count": 21,
   "id": "054a6d69",
   "metadata": {},
   "outputs": [],
   "source": [
    "# ed = Website(\"https://edwarddonner.com\")\n",
    "# print(ed.title)\n",
    "# print(ed.text)"
   ]
  },
  {
   "cell_type": "code",
   "execution_count": 22,
   "id": "90c0380a",
   "metadata": {},
   "outputs": [
    {
     "name": "stderr",
     "output_type": "stream",
     "text": [
      "\u001b[?25lpulling manifest ⠋ \u001b[?25h\u001b[?25l\u001b[2K\u001b[1Gpulling manifest ⠙ \u001b[?25h\u001b[?25l\u001b[2K\u001b[1Gpulling manifest ⠹ \u001b[?25h\u001b[?25l\u001b[2K\u001b[1Gpulling manifest ⠸ \u001b[?25h\u001b[?25l\u001b[2K\u001b[1Gpulling manifest ⠼ \u001b[?25h\u001b[?25l\u001b[2K\u001b[1Gpulling manifest ⠴ \u001b[?25h\u001b[?25l\u001b[2K\u001b[1Gpulling manifest ⠦ \u001b[?25h\u001b[?25l\u001b[2K\u001b[1Gpulling manifest \n",
      "pulling dde5aa3fc5ff... 100% ▕████████████████▏ 2.0 GB                         \n",
      "pulling 966de95ca8a6... 100% ▕████████████████▏ 1.4 KB                         \n",
      "pulling fcc5a6bec9da... 100% ▕████████████████▏ 7.7 KB                         \n",
      "pulling a70ff7e570d9... 100% ▕████████████████▏ 6.0 KB                         \n",
      "pulling 56bb8bd477a5... 100% ▕████████████████▏   96 B                         \n",
      "pulling 34bb5ab01051... 100% ▕████████████████▏  561 B                         \n",
      "verifying sha256 digest \n",
      "writing manifest \n",
      "success \u001b[?25h\n"
     ]
    }
   ],
   "source": [
    "!ollama pull llama3.2"
   ]
  },
  {
   "cell_type": "markdown",
   "id": "d5c69d95",
   "metadata": {},
   "source": [
    "## Helper Functions"
   ]
  },
  {
   "cell_type": "code",
   "execution_count": 23,
   "id": "281de8b6",
   "metadata": {},
   "outputs": [],
   "source": [
    "# Define our system prompt - you can experiment with this later, changing the last sentence to 'Respond in markdown in Spanish.\"\n",
    "\n",
    "system_prompt = \"You are an assistant that analyzes the contents of a website \\\n",
    "and provides a short summary, ignoring text that might be navigation related. \\\n",
    "Respond in markdown.\""
   ]
  },
  {
   "cell_type": "code",
   "execution_count": 24,
   "id": "fd6a13ac",
   "metadata": {},
   "outputs": [],
   "source": [
    "# A function that writes a User Prompt that asks for summaries of websites:\n",
    "\n",
    "def user_prompt_for(website):\n",
    "    user_prompt = f\"You are looking at a website titled {website.title}\"\n",
    "    user_prompt += \"\\nThe contents of this website is as follows; \\\n",
    "please provide a short summary of this website in markdown. \\\n",
    "If it includes news or announcements, then summarize these too.\\n\\n\"\n",
    "    user_prompt += website.text\n",
    "    return user_prompt"
   ]
  },
  {
   "cell_type": "code",
   "execution_count": 25,
   "id": "9175dcc9",
   "metadata": {},
   "outputs": [],
   "source": [
    "# See how this function creates exactly the format above\n",
    "\n",
    "def messages_for(website):\n",
    "    return [\n",
    "        {\"role\": \"system\", \"content\": system_prompt},\n",
    "        {\"role\": \"user\", \"content\": user_prompt_for(website)}\n",
    "    ]"
   ]
  },
  {
   "cell_type": "markdown",
   "id": "a51f40a7",
   "metadata": {},
   "source": [
    "## Payload info"
   ]
  },
  {
   "cell_type": "code",
   "execution_count": 26,
   "id": "de304094",
   "metadata": {},
   "outputs": [],
   "source": [
    "OLLAMA_API = \"http://localhost:11434/api/chat\"\n",
    "HEADERS = {\"Content-type\": \"application/json\"}\n",
    "MODEL = \"llama3.2\""
   ]
  },
  {
   "cell_type": "code",
   "execution_count": null,
   "id": "35e9049d",
   "metadata": {},
   "outputs": [],
   "source": []
  },
  {
   "cell_type": "markdown",
   "id": "dff2fbe6",
   "metadata": {},
   "source": [
    "## First approach"
   ]
  },
  {
   "cell_type": "code",
   "execution_count": 27,
   "id": "a7c918be",
   "metadata": {},
   "outputs": [],
   "source": [
    "\n",
    "def summarize_requests(url):\n",
    "    website = Website(url)\n",
    "    # print(payload)\n",
    "    payload = {\n",
    "        \"model\": MODEL,\n",
    "        \"messages\": messages_for(website),\n",
    "        \"stream\": False\n",
    "    }\n",
    "    response = requests.post(OLLAMA_API, headers=HEADERS, json=payload)\n",
    "    if response.status_code != 200:\n",
    "        raise Exception(f\"Error: {response.status_code} - {response.text}\")\n",
    "    return response.json()[\"message\"][\"content\"]"
   ]
  },
  {
   "cell_type": "code",
   "execution_count": 28,
   "id": "a1b16be0",
   "metadata": {},
   "outputs": [],
   "source": [
    "def display_summary_requests(url):\n",
    "    summary = summarize_requests(url)\n",
    "    display(Markdown(summary))"
   ]
  },
  {
   "cell_type": "code",
   "execution_count": 29,
   "id": "28de36f2",
   "metadata": {},
   "outputs": [
    {
     "data": {
      "text/markdown": [
       "### Website Summary\n",
       "\n",
       "#### Overview\n",
       "\n",
       "The website is owned by Edward Donner, a tech enthusiast and co-founder of Nebula.io. The site appears to be a personal blog or portfolio showcasing his work in the field of artificial intelligence (AI) and language models.\n",
       "\n",
       "#### Content\n",
       "\n",
       "*   Edward introduces himself as a writer, DJ, and amateur electronic music producer.\n",
       "*   He discusses his background as the founder and CEO of AI startup untapt, which was acquired in 2021.\n",
       "*   The website highlights Nebula.io's work on applying AI to help people discover their potential and talent sourcing platform for recruiters.\n",
       "\n",
       "#### News and Announcements\n",
       "\n",
       "*   **April 21, 2025:** Release of \"The Complete Agentic AI Engineering Course.\"\n",
       "*   **January 23, 2025:** Announcement of an LLM Workshop – Hands-on with Agents.\n",
       "*   **December 21, 2024:** Introduction to Mastering AI and LLM Engineering – Resources.\n",
       "*   **November 13, 2024:** Welcome message for SuperDataScientists."
      ],
      "text/plain": [
       "<IPython.core.display.Markdown object>"
      ]
     },
     "metadata": {},
     "output_type": "display_data"
    }
   ],
   "source": [
    "url = \"https://edwarddonner.com\"\n",
    "display_summary_requests(url)"
   ]
  },
  {
   "cell_type": "markdown",
   "id": "1af8d6f4",
   "metadata": {},
   "source": [
    "## Ollama Package approach"
   ]
  },
  {
   "cell_type": "code",
   "execution_count": 30,
   "id": "252544ba",
   "metadata": {},
   "outputs": [],
   "source": [
    "def summarize_package(url):\n",
    "    website = Website(url)\n",
    "    # print(payload)\n",
    "    response = ollama.chat(model=MODEL, messages=messages_for(website))\n",
    "    \n",
    "    return response[\"message\"][\"content\"]"
   ]
  },
  {
   "cell_type": "code",
   "execution_count": 31,
   "id": "3057c326",
   "metadata": {},
   "outputs": [],
   "source": [
    "def display_summary_package(url):\n",
    "    summary = summarize_package(url)\n",
    "    display(Markdown(summary))"
   ]
  },
  {
   "cell_type": "code",
   "execution_count": 32,
   "id": "f1f6c440",
   "metadata": {},
   "outputs": [
    {
     "data": {
      "text/markdown": [
       "**Summary of the Website**\n",
       "==========================\n",
       "\n",
       "*   The website belongs to Edward Donner, a co-founder and CTO of Nebula.io, an AI startup.\n",
       "*   The website discusses various topics related to artificial intelligence (AI) and language models.\n",
       "*   **Upcoming Events:**\n",
       "    *   The Complete Agentic AI Engineering Course (April 21, 2025)\n",
       "    *   LLM Workshop – Hands-on with Agents – resources (December 21, 2024)\n",
       "    *   Welcome, SuperDataScientists! (November 13, 2024)\n",
       "*   **Past Events:**\n",
       "    *   Mastering AI and LLM Engineering – Resources\n",
       "    *   LLM Workshop \n",
       "*   The website provides a personal touch, with Edward Donner sharing his interests in writing code, DJing, and amateur electronic music production."
      ],
      "text/plain": [
       "<IPython.core.display.Markdown object>"
      ]
     },
     "metadata": {},
     "output_type": "display_data"
    }
   ],
   "source": [
    "url = \"https://edwarddonner.com\"\n",
    "display_summary_requests(url)"
   ]
  },
  {
   "cell_type": "markdown",
   "id": "244ab7c1",
   "metadata": {},
   "source": [
    "## Through OpenAI Library"
   ]
  },
  {
   "cell_type": "code",
   "execution_count": 33,
   "id": "66a982c3",
   "metadata": {},
   "outputs": [],
   "source": [
    "OLLAMA_API = \"http://localhost:11434/v1\" # Notice that the API doesnt have /chat in it\n",
    "ollama_via_openai = OpenAI(base_url=OLLAMA_API, api_key='ollama')"
   ]
  },
  {
   "cell_type": "code",
   "execution_count": 34,
   "id": "d1fac436",
   "metadata": {},
   "outputs": [],
   "source": [
    "def summarize_openai(url):\n",
    "    website = Website(url)\n",
    "    messages = messages_for(website)\n",
    "    # print(messages)\n",
    "    response = ollama_via_openai.chat.completions.create(model=MODEL, messages=messages)\n",
    "    \n",
    "    return response.choices[0].message.content"
   ]
  },
  {
   "cell_type": "code",
   "execution_count": 35,
   "id": "4e8d53f2",
   "metadata": {},
   "outputs": [],
   "source": [
    "def display_summary_openai(url):\n",
    "    summary = summarize_openai(url)\n",
    "    display(Markdown(summary))"
   ]
  },
  {
   "cell_type": "code",
   "execution_count": 36,
   "id": "7deefaf9",
   "metadata": {},
   "outputs": [
    {
     "data": {
      "text/markdown": [
       "**Summary**\n",
       "\n",
       "### Edward Donner's Website\n",
       "\n",
       "The website revolves around Ed Donner, a pioneer in the AI industry. He is the co-founder and CTO of Nebula.io, an organization applying AI to help people discover their potential.\n",
       "\n",
       "#### News/Announcements:\n",
       "\n",
       "* **The Complete Agentic AI Engineering Course** - Announced on April 21, 2025\n",
       "* **LLM Workshop – Hands-on with Agents – resources** - Published on December 21, 2024\n",
       "* **Mastering AI and LLM Engineering – Resources** - Promoted in November 2024\n",
       "\n",
       "#### Website Content:\n",
       "\n",
       "- Ed Donner introduces himself as a code enthusiast and AI pioneer with interests in DJing, amateur electronic music production, and Hacker News.\n",
       "- He describes Nebula.io's mission to apply AI positively and provides an overview of his previous ventures, including the acquired AI startup untapt.\n",
       "- The website features links to various resources, including the LLM Workshop, for enthusiasts interested in learning about Agents.\n",
       "\n",
       "#### Navigation:\n",
       "\n",
       "The navigation menu offers links to 'Connect Four', 'Outsmart' (an arena where LLMs compete), 'About', and other resources."
      ],
      "text/plain": [
       "<IPython.core.display.Markdown object>"
      ]
     },
     "metadata": {},
     "output_type": "display_data"
    }
   ],
   "source": [
    "url = \"https://edwarddonner.com\"\n",
    "display_summary_openai(url)"
   ]
  },
  {
   "cell_type": "code",
   "execution_count": null,
   "id": "72680d36",
   "metadata": {},
   "outputs": [],
   "source": []
  },
  {
   "cell_type": "code",
   "execution_count": null,
   "id": "f841dc74",
   "metadata": {},
   "outputs": [],
   "source": []
  },
  {
   "cell_type": "code",
   "execution_count": null,
   "id": "a9c3e72b",
   "metadata": {},
   "outputs": [],
   "source": []
  },
  {
   "cell_type": "code",
   "execution_count": null,
   "id": "8161519c",
   "metadata": {},
   "outputs": [],
   "source": []
  }
 ],
 "metadata": {
  "kernelspec": {
   "display_name": ".venv",
   "language": "python",
   "name": "python3"
  },
  "language_info": {
   "codemirror_mode": {
    "name": "ipython",
    "version": 3
   },
   "file_extension": ".py",
   "mimetype": "text/x-python",
   "name": "python",
   "nbconvert_exporter": "python",
   "pygments_lexer": "ipython3",
   "version": "3.11.3"
  }
 },
 "nbformat": 4,
 "nbformat_minor": 5
}
